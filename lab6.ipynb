{
 "cells": [
  {
   "cell_type": "markdown",
   "metadata": {
    "id": "-7KW99s2uAQe"
   },
   "source": [
    "### Внимание! Необходимо использовать функции numpy по-максимуму! И практически никаких циклов!\n"
   ]
  },
  {
   "cell_type": "code",
   "execution_count": 1,
   "metadata": {
    "id": "Pi1QwrHEuAQg"
   },
   "outputs": [],
   "source": [
    "import numpy as np  "
   ]
  },
  {
   "cell_type": "markdown",
   "metadata": {
    "id": "jczamdbSuAQh"
   },
   "source": [
    "### 1. Отсортируйте содержимое матрицы по возрастанию:"
   ]
  },
  {
   "cell_type": "code",
   "execution_count": 2,
   "metadata": {
    "id": "4wBXhr1luAQh",
    "outputId": "6f0f5b28-fb35-46aa-831e-7e69a0aae572"
   },
   "outputs": [
    {
     "name": "stdout",
     "output_type": "stream",
     "text": [
      "[[9 8 4]\n",
      " [0 0 8]\n",
      " [3 2 1]\n",
      " [8 9 6]\n",
      " [0 4 6]]\n"
     ]
    }
   ],
   "source": [
    "np.random.seed(21)\n",
    "A = np.random.randint(0, 10, (5, 3))\n",
    "print(A)"
   ]
  },
  {
   "cell_type": "code",
   "execution_count": 3,
   "metadata": {
    "id": "O8tqB7UiuAQi"
   },
   "outputs": [
    {
     "name": "stdout",
     "output_type": "stream",
     "text": [
      "[[4 8 9]\n",
      " [0 0 8]\n",
      " [1 2 3]\n",
      " [6 8 9]\n",
      " [0 4 6]]\n"
     ]
    }
   ],
   "source": [
    "A = np.sort(A)\n",
    "print(A)"
   ]
  },
  {
   "cell_type": "markdown",
   "metadata": {
    "id": "IKGI2uCguAQi"
   },
   "source": [
    "### 2. Найти наиболее частое значение в массиве"
   ]
  },
  {
   "cell_type": "code",
   "execution_count": 4,
   "metadata": {
    "id": "cXLO6spZuAQi",
    "outputId": "d6ef9600-999b-410e-9f69-b8e2d78391bd"
   },
   "outputs": [
    {
     "name": "stdout",
     "output_type": "stream",
     "text": [
      "[[4 4 7]\n",
      " [8 9 5]\n",
      " [6 5 2]\n",
      " [6 2 8]\n",
      " [2 0 5]]\n",
      "наиболее частое значение в массиве: 2\n"
     ]
    }
   ],
   "source": [
    "C = np.random.randint(0, 10, (5, 3))\n",
    "print(C)\n",
    "print(\"наиболее частое значение в массиве:\", np.bincount(np.ravel(C)).argmax())"
   ]
  },
  {
   "cell_type": "markdown",
   "metadata": {
    "id": "d07woJW0uAQj"
   },
   "source": [
    "### 3. Найти n наибольших значений в массиве"
   ]
  },
  {
   "cell_type": "code",
   "execution_count": 9,
   "metadata": {
    "id": "JVQIENfvuAQj",
    "outputId": "f2402647-3839-478c-96cf-db6a4d0f3871"
   },
   "outputs": [],
   "source": [
    "Z = np.arange(10000)\n",
    "np.random.shuffle(Z)\n",
    "n = 12"
   ]
  },
  {
   "cell_type": "code",
   "execution_count": 10,
   "metadata": {
    "id": "YaZY3bbruAQk"
   },
   "outputs": [
    {
     "name": "stdout",
     "output_type": "stream",
     "text": [
      "[9999 9998 9997 9996 9995 9994 9993 9992 9991 9990 9989 9988]\n"
     ]
    }
   ],
   "source": [
    "Z_sort = np.sort(Z)[::-1]\n",
    "print(Z_sort[:n])\n",
    "    "
   ]
  },
  {
   "cell_type": "markdown",
   "metadata": {
    "id": "sfYlSNDmuAQn"
   },
   "source": [
    "### 4. Пусть задан некоторый массив  𝑋 . Заменить все элементы с нечетными индексами на число  𝑎  (если оно не указано, то на 1), четные - возвести в куб и записать в обратном порядке на те же позиции. Массив  𝑋  при этом должен остаться без изменений. В конце требуется слить массив X с преобразованным X.\n",
    "\n",
    "Пример:\n",
    "X = [100, 200, 300, 400, 500] -> [100, a, 300, a, 500] -> [500^3, a, 300^3, a, 100^3] -> склеиваем -> [100, 200, 300, 400, 500, 500^3, a, 300^3, a, 100^3]"
   ]
  },
  {
   "cell_type": "code",
   "execution_count": 7,
   "metadata": {
    "id": "2G51KjW6uAQn"
   },
   "outputs": [
    {
     "name": "stdout",
     "output_type": "stream",
     "text": [
      "[    10     20     30     40     50 125000      1  27000      1   1000]\n"
     ]
    }
   ],
   "source": [
    "X = np.array([10, 20, 30, 40, 50])\n",
    "# a = 77\n",
    "X_changed = X.copy()\n",
    "try:\n",
    "    X_changed[1::2] = a\n",
    "except:\n",
    "    X_changed[1::2] = 1\n",
    "X_changed[::2] = np.power(X_changed[::2], 3)\n",
    "X_changed = np.flip(X_changed)\n",
    "X = np.concatenate([X, X_changed])\n",
    "print(X)\n"
   ]
  },
  {
   "cell_type": "markdown",
   "metadata": {
    "id": "o1_EME5LuAQn"
   },
   "source": [
    "### 5. Создать два массива с 3-мя компонентами `a` и `b`. Заполните их случайными числами. Реализуйте их скалярное произведение с помощью  `NumPy` и без. Засеките время работы, как это показано в заданиях выше."
   ]
  },
  {
   "cell_type": "code",
   "execution_count": 8,
   "metadata": {
    "id": "Uu1RNTm7uAQn"
   },
   "outputs": [
    {
     "name": "stdout",
     "output_type": "stream",
     "text": [
      "1.44 µs ± 114 ns per loop (mean ± std. dev. of 7 runs, 1,000,000 loops each)\n",
      "1.35 µs ± 46.1 ns per loop (mean ± std. dev. of 7 runs, 1,000,000 loops each)\n"
     ]
    }
   ],
   "source": [
    "a = np.random.randint(0, 10, 3)\n",
    "b = np.random.randint(0, 10, 3)\n",
    "%timeit scalar_prod_np = np.dot(a, b)\n",
    "%timeit scalar_prod = sum([a[i] * b[i] for i in range(len(a))])\n"
   ]
  }
 ],
 "metadata": {
  "colab": {
   "name": "Numpy_2 HW",
   "provenance": []
  },
  "kernelspec": {
   "display_name": "Python 3.10.5 64-bit",
   "language": "python",
   "name": "python3"
  },
  "language_info": {
   "codemirror_mode": {
    "name": "ipython",
    "version": 3
   },
   "file_extension": ".py",
   "mimetype": "text/x-python",
   "name": "python",
   "nbconvert_exporter": "python",
   "pygments_lexer": "ipython3",
   "version": "3.10.5"
  },
  "vscode": {
   "interpreter": {
    "hash": "d55b4d33c30fd6634713797b810b9253227910ac2377b0014653f89960d4aa20"
   }
  }
 },
 "nbformat": 4,
 "nbformat_minor": 1
}
