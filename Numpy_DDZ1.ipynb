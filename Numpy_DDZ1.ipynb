{
  "cells": [
    {
      "cell_type": "markdown",
      "metadata": {
        "id": "-7KW99s2uAQe"
      },
      "source": [
        "###Внимание! Необходимо использовать функции numpy по-максимуму! И практически никаких циклов!\n"
      ]
    },
    {
      "cell_type": "code",
      "execution_count": 1,
      "metadata": {
        "id": "Pi1QwrHEuAQg"
      },
      "outputs": [],
      "source": [
        "import numpy as np"
      ]
    },
    {
      "cell_type": "markdown",
      "metadata": {
        "id": "jczamdbSuAQh"
      },
      "source": [
        "### 1. Отсортируйте содержимое матрицы, чтобы в каждом столбце все значения распологались по возрастанию:"
      ]
    },
    {
      "cell_type": "code",
      "execution_count": 2,
      "metadata": {
        "id": "4wBXhr1luAQh",
        "outputId": "6f0f5b28-fb35-46aa-831e-7e69a0aae572"
      },
      "outputs": [
        {
          "name": "stdout",
          "output_type": "stream",
          "text": [
            "[[9 8 4]\n",
            " [0 0 8]\n",
            " [3 2 1]\n",
            " [8 9 6]\n",
            " [0 4 6]]\n"
          ]
        }
      ],
      "source": [
        "np.random.seed(21)\n",
        "a = np.random.randint(0, 10, (5, 3))\n",
        "print(a)"
      ]
    },
    {
      "cell_type": "code",
      "execution_count": 3,
      "metadata": {
        "id": "O8tqB7UiuAQi"
      },
      "outputs": [
        {
          "name": "stdout",
          "output_type": "stream",
          "text": [
            "[[0 0 1]\n",
            " [0 2 4]\n",
            " [3 4 6]\n",
            " [8 8 6]\n",
            " [9 9 8]]\n"
          ]
        }
      ],
      "source": [
        "a_sorted = np.sort(a, axis=0)\n",
        "print(a_sorted)"
      ]
    },
    {
      "cell_type": "markdown",
      "metadata": {
        "id": "IKGI2uCguAQi"
      },
      "source": [
        "### 2. Найти наиболее частое значение в массиве"
      ]
    },
    {
      "cell_type": "code",
      "execution_count": 4,
      "metadata": {
        "id": "cXLO6spZuAQi",
        "outputId": "d6ef9600-999b-410e-9f69-b8e2d78391bd"
      },
      "outputs": [
        {
          "name": "stdout",
          "output_type": "stream",
          "text": [
            "наиболее частое значение в массиве: 0\n"
          ]
        }
      ],
      "source": [
        "print(\"наиболее частое значение в массиве:\", np.bincount(np.ravel(a)).argmax())\n"
      ]
    },
    {
      "cell_type": "markdown",
      "metadata": {
        "id": "d07woJW0uAQj"
      },
      "source": [
        "### 3. Найти n наибольших значений в массиве"
      ]
    },
    {
      "cell_type": "code",
      "execution_count": 5,
      "metadata": {
        "id": "JVQIENfvuAQj",
        "outputId": "f2402647-3839-478c-96cf-db6a4d0f3871"
      },
      "outputs": [],
      "source": [
        "Z = np.arange(10000)\n",
        "np.random.shuffle(Z)\n",
        "n = 5"
      ]
    },
    {
      "cell_type": "code",
      "execution_count": 6,
      "metadata": {
        "id": "YaZY3bbruAQk"
      },
      "outputs": [
        {
          "name": "stdout",
          "output_type": "stream",
          "text": [
            "[9999 9998 9997 9996 9995]\n"
          ]
        }
      ],
      "source": [
        "Z_sort = np.sort(Z)[::-1]\n",
        "print(Z_sort[:n])\n",
        "    "
      ]
    },
    {
      "cell_type": "markdown",
      "metadata": {
        "id": "PqxjN_0AuAQk"
      },
      "source": [
        "### 4. Дан двумерный массив. Найти все различные строки"
      ]
    },
    {
      "cell_type": "code",
      "execution_count": 7,
      "metadata": {
        "id": "bcSdbUPSuAQk",
        "outputId": "424e5338-1259-46c1-aaa5-39a7252eb530"
      },
      "outputs": [
        {
          "name": "stdout",
          "output_type": "stream",
          "text": [
            "[[1 0 1]\n",
            " [0 1 0]\n",
            " [0 1 0]\n",
            " [0 0 0]\n",
            " [1 1 0]\n",
            " [0 0 1]]\n"
          ]
        }
      ],
      "source": [
        "Z = np.random.randint(0, 2, (6,3))\n",
        "print(Z)"
      ]
    },
    {
      "cell_type": "code",
      "execution_count": 8,
      "metadata": {
        "id": "8djEW8skuAQl",
        "outputId": "7a915e20-34a1-43e6-a1df-4757890697bc"
      },
      "outputs": [
        {
          "name": "stdout",
          "output_type": "stream",
          "text": [
            "[[0 0 0]\n",
            " [0 0 1]\n",
            " [0 1 0]\n",
            " [1 0 1]\n",
            " [1 1 0]]\n"
          ]
        }
      ],
      "source": [
        "Z_unique = np.unique(Z, axis=0)\n",
        "print(Z_unique)\n"
      ]
    },
    {
      "cell_type": "markdown",
      "metadata": {
        "id": "TW4PNM7SuAQm"
      },
      "source": [
        "### 5. Дан массив arr, необходимо найти среднее значение внутри групп, группа определена массивом g. \n",
        "Например, для  \n",
        "`arr = [4, 2, 1, 5, 2, 5, 1, 3]` и   \n",
        "`g =   [0, 1, 1, 0, 1, 0, 1, 0]` (4 относится к группе 0, 2 к группе 1 и т. д.)   \n",
        "Средние по группам: `[4.25, 1.5]`  \n",
        "Подсказка: `np.bincount()`   \n",
        "Используйте библиотеку `numpy`, не используйте циклы."
      ]
    },
    {
      "cell_type": "code",
      "execution_count": 9,
      "metadata": {
        "id": "i17-9egFuAQm"
      },
      "outputs": [
        {
          "name": "stdout",
          "output_type": "stream",
          "text": [
            "[4.25 1.5 ]\n"
          ]
        }
      ],
      "source": [
        "arr = np.array([4, 2, 1, 5, 2, 5, 1, 3])\n",
        "g = np.array([0, 1, 1, 0, 1, 0, 1, 0])\n",
        "el_count = np.bincount(g)\n",
        "sum_in_group = np.bincount(g, arr)\n",
        "avg_in_group = sum_in_group / el_count\n",
        "print(avg_in_group)"
      ]
    },
    {
      "cell_type": "markdown",
      "metadata": {
        "id": "PIlMK6O4uAQm"
      },
      "source": [
        "### 6. Перемножить две квадратные матрицы двумя способами -- без использования пакета numpy и с ним. Сравнить время вычислений\n",
        "\n"
      ]
    },
    {
      "cell_type": "code",
      "execution_count": 25,
      "metadata": {
        "id": "M5qrs5jpuAQm"
      },
      "outputs": [
        {
          "name": "stdout",
          "output_type": "stream",
          "text": [
            "без numpy\n",
            "82.2 µs ± 2.12 µs per loop (mean ± std. dev. of 7 runs, 10,000 loops each)\n",
            "с numpy\n",
            "1.64 µs ± 42.8 ns per loop (mean ± std. dev. of 7 runs, 1,000,000 loops each)\n"
          ]
        }
      ],
      "source": [
        "A = np.random.randint(0, 20, (5, 5))\n",
        "B = np.random.randint(0, 20, (5, 5))\n",
        "\n",
        "def matrix_prod_py(a, b):\n",
        "    C_py = [[0 for row in range(len(A))] for col in range(len(B))]\n",
        "    for i in range(len(A)):\n",
        "        for j in range(len(B)):\n",
        "            for k in range(len(A)):\n",
        "                C_py[i][j] += A[i][k] * B[k][j]\n",
        "    return C_py\n",
        "\n",
        "print('без numpy')\n",
        "# print(*matrix_prod_py(A, B), sep='\\n')\n",
        "%timeit matrix_prod_py(A, B)\n",
        "print('с numpy')\n",
        "# print(np.dot(A, B))\n",
        "%timeit np.dot(A, B)"
      ]
    },
    {
      "cell_type": "markdown",
      "metadata": {
        "id": "zd08nVscuAQm"
      },
      "source": [
        "### 7. Написать функцию, которая по данной последовательности $\\{A_i\\}_{i=1}^n$ строит последовательность $S_n$, где $S_k = \\frac{A_1 + ... + A_k}{k}$.  \n",
        "Аналогично -- с помощью библиотеки **NumPy** и без нее. Сравните скорость."
      ]
    },
    {
      "cell_type": "code",
      "execution_count": 16,
      "metadata": {
        "id": "fodaE1u7uAQm"
      },
      "outputs": [
        {
          "name": "stdout",
          "output_type": "stream",
          "text": [
            "без numpy\n",
            "9.05 µs ± 1.08 µs per loop (mean ± std. dev. of 7 runs, 100,000 loops each)\n",
            "с numpy\n",
            "8.08 µs ± 1.05 µs per loop (mean ± std. dev. of 7 runs, 100,000 loops each)\n"
          ]
        }
      ],
      "source": [
        "n = 20\n",
        "a = list(range(1, n+1))\n",
        "\n",
        "def Sn_py(a):\n",
        "    Sn = [sum(range(1, i+1))/i for i in a]\n",
        "    return Sn\n",
        "\n",
        "def Sn_numpy(a):\n",
        "    a = np.array(a)\n",
        "    Sn = np.divide(np.cumsum(a), a)\n",
        "    return Sn\n",
        "\n",
        "# print(Sn_py(a))\n",
        "print('без numpy')\n",
        "%timeit Sn_py(a)\n",
        "# print(Sn_numpy(a))\n",
        "print('с numpy')\n",
        "%timeit Sn_numpy(a)"
      ]
    },
    {
      "cell_type": "markdown",
      "metadata": {},
      "source": [
        "на ряду из малого кол-ва эл-ов код на py быстрее кода на numpy, при увеличении кол-ва элементов ряда ситуация меняется на противоположную"
      ]
    },
    {
      "cell_type": "markdown",
      "metadata": {
        "id": "sfYlSNDmuAQn"
      },
      "source": [
        "### 8. Пусть задан некоторый массив  𝑋 . Заменить все элементы с нечетными индексами на число  𝑎  (если оно не указано, то на 1), четные - возвести в куб и записать в обратном порядке на те же позиции. Массив  𝑋  при этом должен остаться без изменений. В конце требуется слить массив X с преобразованным X.\n",
        "\n",
        "Пример:\n",
        "X = [100, 200, 300, 400, 500] -> [100, a, 300, a, 500] -> [500^3, a, 300^3, a, 100^3] -> склеиваем -> [100, 200, 300, 400, 500, 500^3, a, 300^3, a, 100^3]"
      ]
    },
    {
      "cell_type": "code",
      "execution_count": 12,
      "metadata": {
        "id": "2G51KjW6uAQn"
      },
      "outputs": [
        {
          "name": "stdout",
          "output_type": "stream",
          "text": [
            "[    10     20     30     40     50 125000      1  27000      1   1000]\n"
          ]
        }
      ],
      "source": [
        "X = np.array([10, 20, 30, 40, 50])\n",
        "# a = 77\n",
        "X_changed = X.copy()\n",
        "try:\n",
        "    X_changed[1::2] = a\n",
        "except:\n",
        "    X_changed[1::2] = 1\n",
        "X_changed[::2] = np.power(X_changed[::2], 3)\n",
        "X_changed = np.flip(X_changed)\n",
        "X = np.concatenate([X, X_changed])\n",
        "print(X)\n"
      ]
    },
    {
      "cell_type": "markdown",
      "metadata": {
        "id": "o1_EME5LuAQn"
      },
      "source": [
        "### 9. Вам подаются на вход два вектора `a` и `b` в трехмерном пространстве.Заполните их случайными числами. Реализуйте их скалярное произведение с помощью  `NumPy` и без. Засеките время работы, как это показано в заданиях выше."
      ]
    },
    {
      "cell_type": "code",
      "execution_count": 17,
      "metadata": {
        "id": "Uu1RNTm7uAQn"
      },
      "outputs": [
        {
          "name": "stdout",
          "output_type": "stream",
          "text": [
            "без numpy:\n",
            "1.18 µs ± 66 ns per loop (mean ± std. dev. of 7 runs, 1,000,000 loops each)\n",
            "c numpy:\n",
            "1.37 µs ± 42.2 ns per loop (mean ± std. dev. of 7 runs, 1,000,000 loops each)\n"
          ]
        }
      ],
      "source": [
        "a = np.random.randint(-5, 10, size=3)\n",
        "b = np.random.randint(-5, 10, size=3)\n",
        "\n",
        "def scalar_prod_py(a, b):\n",
        "    prod = 0\n",
        "    for i in range(len(a)):\n",
        "        prod += a[i] * b[i]\n",
        "    return prod\n",
        "\n",
        "print('без numpy:')\n",
        "# print(scalar_prod_py(a, b))\n",
        "%timeit scalar_prod_py(a, b)\n",
        "print('c numpy:')\n",
        "# print(np.dot(a, b))\n",
        "%timeit np.dot(a, b)"
      ]
    },
    {
      "cell_type": "markdown",
      "metadata": {
        "id": "fVo8BK08uAQn"
      },
      "source": [
        "### 10. Написать решето Эратосфена с Numpy. Минимум циклов!"
      ]
    },
    {
      "cell_type": "code",
      "execution_count": 18,
      "metadata": {
        "id": "jer1K-cXuAQn"
      },
      "outputs": [
        {
          "name": "stdout",
          "output_type": "stream",
          "text": [
            "[  2   3   5   7  11  13  17  19  23  29  31  37  41  43  47  53  59  61\n",
            "  67  71  73  79  83  89  97 101 103 107 109 113 127 131 137 139 149 151\n",
            " 157 163 167 173 179 181 191 193 197 199 211]\n"
          ]
        }
      ],
      "source": [
        "n = 211\n",
        "a = np.arange(2, n+1)\n",
        "b = np.full(n-1, fill_value=True)\n",
        "for i in range(2, int(np.sqrt(n))+1):\n",
        "    b[np.where((a != i) & (a % i == 0))] = False\n",
        "print(a[b])"
      ]
    },
    {
      "cell_type": "markdown",
      "metadata": {
        "id": "hL91rN8QuAQo"
      },
      "source": [
        "### 11. Найти максимальный элемент в векторе x среди элементов, перед которыми стоит нулевой. \n",
        "Для x = np.array([6, 2, 0, 3, 0, 0, 5, 7, 0]) ответ 5"
      ]
    },
    {
      "cell_type": "code",
      "execution_count": 19,
      "metadata": {
        "id": "2g5-52CxuAQq"
      },
      "outputs": [
        {
          "name": "stdout",
          "output_type": "stream",
          "text": [
            "5\n"
          ]
        }
      ],
      "source": [
        "x = np.array([6, 2, 0, 3, 0, 0, 5, 7, 0])\n",
        "print(np.max(x[np.array(np.where(x[:-1]==0)) + 1]))"
      ]
    }
  ],
  "metadata": {
    "colab": {
      "name": "Numpy_DDZ",
      "provenance": []
    },
    "kernelspec": {
      "display_name": "Python 3.10.5 64-bit",
      "language": "python",
      "name": "python3"
    },
    "language_info": {
      "codemirror_mode": {
        "name": "ipython",
        "version": 3
      },
      "file_extension": ".py",
      "mimetype": "text/x-python",
      "name": "python",
      "nbconvert_exporter": "python",
      "pygments_lexer": "ipython3",
      "version": "3.10.5"
    },
    "vscode": {
      "interpreter": {
        "hash": "d55b4d33c30fd6634713797b810b9253227910ac2377b0014653f89960d4aa20"
      }
    }
  },
  "nbformat": 4,
  "nbformat_minor": 0
}
